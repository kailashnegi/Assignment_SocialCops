{
 "cells": [
  {
   "cell_type": "markdown",
   "metadata": {},
   "source": [
    "# SocialCops Assignment - Q1\n",
    "\n",
    "### Kailash Negi"
   ]
  },
  {
   "cell_type": "markdown",
   "metadata": {},
   "source": [
    "#### Problem Statement :-->\n",
    "\n",
    "A client of SocialCops was using Collect for household Survey in the Krishna district of Andhra Pradesh. It turns out in some responses, data collectors have missed entering the Assembly Constituency Names (AC), Mandal Names and Village Names in the relevant field. Fortunately, the client has maintained a database of all the tablets being deployed in different villages in\n",
    "different dates. Attached is an excel file &lt;Tab_Villages_Mapping.xlsx&gt; containing two sheets: Sheet 1 one contains a list of around 21,000 responses for which AC, Mandal and Village Names are missing and Sheet 2 contains a list of tablets in use in different villages in different dates. Can you get the missing Village Names? [Hint: You may not get names of all the missing\n",
    "villages!]"
   ]
  },
  {
   "cell_type": "code",
   "execution_count": 1,
   "metadata": {
    "collapsed": true
   },
   "outputs": [],
   "source": [
    "import pandas as pd\n",
    "import warnings\n",
    "warnings.filterwarnings('ignore')"
   ]
  },
  {
   "cell_type": "code",
   "execution_count": 69,
   "metadata": {
    "collapsed": false
   },
   "outputs": [],
   "source": [
    "## Reading data from both sheets of excel file \"Tab_Villages_Mapping\"\n",
    "SurveyDataFrame = pd.read_excel('C://Users/abc/Desktop/Data Analytics/Projects/SocialCops - Assignment/Tab_Villages_Mapping.xlsx', sheetname=\"Sheet1\",date_format='%Y%m%d')\n",
    "TabletDataFrame = pd.read_excel('C://Users/abc/Desktop/Data Analytics/Projects/SocialCops - Assignment/Tab_Villages_Mapping.xlsx', sheetname=\"Sheet2\",date_format='%Y%m%d')"
   ]
  },
  {
   "cell_type": "markdown",
   "metadata": {},
   "source": [
    "#### Checking data for SurveyDataFrame"
   ]
  },
  {
   "cell_type": "code",
   "execution_count": 70,
   "metadata": {
    "collapsed": false
   },
   "outputs": [
    {
     "data": {
      "text/html": [
       "<div>\n",
       "<table border=\"1\" class=\"dataframe\">\n",
       "  <thead>\n",
       "    <tr style=\"text-align: right;\">\n",
       "      <th></th>\n",
       "      <th>Response No</th>\n",
       "      <th>Tab No</th>\n",
       "      <th>Survey Date</th>\n",
       "      <th>AC Name</th>\n",
       "      <th>Mandal Name</th>\n",
       "      <th>Village Name</th>\n",
       "    </tr>\n",
       "  </thead>\n",
       "  <tbody>\n",
       "    <tr>\n",
       "      <th>0</th>\n",
       "      <td>202</td>\n",
       "      <td>35</td>\n",
       "      <td>2015-05-24</td>\n",
       "      <td>NaN</td>\n",
       "      <td>NaN</td>\n",
       "      <td>NaN</td>\n",
       "    </tr>\n",
       "    <tr>\n",
       "      <th>1</th>\n",
       "      <td>203</td>\n",
       "      <td>400</td>\n",
       "      <td>2015-07-09</td>\n",
       "      <td>NaN</td>\n",
       "      <td>NaN</td>\n",
       "      <td>NaN</td>\n",
       "    </tr>\n",
       "    <tr>\n",
       "      <th>2</th>\n",
       "      <td>206</td>\n",
       "      <td>498</td>\n",
       "      <td>2015-06-10</td>\n",
       "      <td>NaN</td>\n",
       "      <td>NaN</td>\n",
       "      <td>NaN</td>\n",
       "    </tr>\n",
       "    <tr>\n",
       "      <th>3</th>\n",
       "      <td>206</td>\n",
       "      <td>487</td>\n",
       "      <td>2015-06-13</td>\n",
       "      <td>NaN</td>\n",
       "      <td>NaN</td>\n",
       "      <td>NaN</td>\n",
       "    </tr>\n",
       "    <tr>\n",
       "      <th>4</th>\n",
       "      <td>207</td>\n",
       "      <td>455</td>\n",
       "      <td>2015-05-31</td>\n",
       "      <td>NaN</td>\n",
       "      <td>NaN</td>\n",
       "      <td>NaN</td>\n",
       "    </tr>\n",
       "  </tbody>\n",
       "</table>\n",
       "</div>"
      ],
      "text/plain": [
       "   Response No  Tab No Survey Date  AC Name  Mandal Name  Village Name\n",
       "0          202      35  2015-05-24      NaN          NaN           NaN\n",
       "1          203     400  2015-07-09      NaN          NaN           NaN\n",
       "2          206     498  2015-06-10      NaN          NaN           NaN\n",
       "3          206     487  2015-06-13      NaN          NaN           NaN\n",
       "4          207     455  2015-05-31      NaN          NaN           NaN"
      ]
     },
     "execution_count": 70,
     "metadata": {},
     "output_type": "execute_result"
    }
   ],
   "source": [
    "SurveyDataFrame.head()"
   ]
  },
  {
   "cell_type": "markdown",
   "metadata": {},
   "source": [
    "#### Checking data for TabletDataFrame"
   ]
  },
  {
   "cell_type": "code",
   "execution_count": 71,
   "metadata": {
    "collapsed": false
   },
   "outputs": [
    {
     "data": {
      "text/html": [
       "<div>\n",
       "<table border=\"1\" class=\"dataframe\">\n",
       "  <thead>\n",
       "    <tr style=\"text-align: right;\">\n",
       "      <th></th>\n",
       "      <th>AC Name</th>\n",
       "      <th>Mandal Name</th>\n",
       "      <th>Village Name</th>\n",
       "      <th>Tab No</th>\n",
       "      <th>Survey Start Date</th>\n",
       "      <th>Survey End Date</th>\n",
       "    </tr>\n",
       "  </thead>\n",
       "  <tbody>\n",
       "    <tr>\n",
       "      <th>0</th>\n",
       "      <td>Mylavaram</td>\n",
       "      <td>Vijayawada (R)</td>\n",
       "      <td>paidurpadu</td>\n",
       "      <td>96</td>\n",
       "      <td>21-May-2015</td>\n",
       "      <td>31-May-2015</td>\n",
       "    </tr>\n",
       "    <tr>\n",
       "      <th>1</th>\n",
       "      <td>Mylavaram</td>\n",
       "      <td>Vijayawada (R)</td>\n",
       "      <td>paidurpadu</td>\n",
       "      <td>99</td>\n",
       "      <td>21-May-2015</td>\n",
       "      <td>31-May-2015</td>\n",
       "    </tr>\n",
       "    <tr>\n",
       "      <th>2</th>\n",
       "      <td>Mylavaram</td>\n",
       "      <td>Vijayawada (R)</td>\n",
       "      <td>paidurpadu</td>\n",
       "      <td>106</td>\n",
       "      <td>21-May-2015</td>\n",
       "      <td>31-May-2015</td>\n",
       "    </tr>\n",
       "    <tr>\n",
       "      <th>3</th>\n",
       "      <td>Mylavaram</td>\n",
       "      <td>Vijayawada (R)</td>\n",
       "      <td>paidurpadu</td>\n",
       "      <td>103</td>\n",
       "      <td>21-May-2015</td>\n",
       "      <td>31-May-2015</td>\n",
       "    </tr>\n",
       "    <tr>\n",
       "      <th>4</th>\n",
       "      <td>Mylavaram</td>\n",
       "      <td>Vijayawada (R)</td>\n",
       "      <td>paidurpadu</td>\n",
       "      <td>97</td>\n",
       "      <td>21-May-2015</td>\n",
       "      <td>31-May-2015</td>\n",
       "    </tr>\n",
       "  </tbody>\n",
       "</table>\n",
       "</div>"
      ],
      "text/plain": [
       "     AC Name     Mandal Name Village Name  Tab No Survey Start Date  \\\n",
       "0  Mylavaram  Vijayawada (R)   paidurpadu      96       21-May-2015   \n",
       "1  Mylavaram  Vijayawada (R)   paidurpadu      99       21-May-2015   \n",
       "2  Mylavaram  Vijayawada (R)   paidurpadu     106       21-May-2015   \n",
       "3  Mylavaram  Vijayawada (R)   paidurpadu     103       21-May-2015   \n",
       "4  Mylavaram  Vijayawada (R)   paidurpadu      97       21-May-2015   \n",
       "\n",
       "  Survey End Date  \n",
       "0     31-May-2015  \n",
       "1     31-May-2015  \n",
       "2     31-May-2015  \n",
       "3     31-May-2015  \n",
       "4     31-May-2015  "
      ]
     },
     "execution_count": 71,
     "metadata": {},
     "output_type": "execute_result"
    }
   ],
   "source": [
    "TabletDataFrame.head()"
   ]
  },
  {
   "cell_type": "markdown",
   "metadata": {},
   "source": [
    "#### Checking Data Type of both data data frames"
   ]
  },
  {
   "cell_type": "code",
   "execution_count": 72,
   "metadata": {
    "collapsed": false
   },
   "outputs": [
    {
     "data": {
      "text/plain": [
       "Response No              int64\n",
       "Tab No                   int64\n",
       "Survey Date     datetime64[ns]\n",
       "AC Name                float64\n",
       "Mandal Name            float64\n",
       "Village Name           float64\n",
       "dtype: object"
      ]
     },
     "execution_count": 72,
     "metadata": {},
     "output_type": "execute_result"
    }
   ],
   "source": [
    "SurveyDataFrame.dtypes"
   ]
  },
  {
   "cell_type": "code",
   "execution_count": 73,
   "metadata": {
    "collapsed": false
   },
   "outputs": [
    {
     "data": {
      "text/plain": [
       "AC Name              object\n",
       "Mandal Name          object\n",
       "Village Name         object\n",
       "Tab No                int64\n",
       "Survey Start Date    object\n",
       "Survey End Date      object\n",
       "dtype: object"
      ]
     },
     "execution_count": 73,
     "metadata": {},
     "output_type": "execute_result"
    }
   ],
   "source": [
    "TabletDataFrame.dtypes"
   ]
  },
  {
   "cell_type": "code",
   "execution_count": 74,
   "metadata": {
    "collapsed": true
   },
   "outputs": [],
   "source": [
    "# Converting \"Survey Start Date\" and \"Survey End Date\" to datetime as they are object type\n",
    "TabletDataFrame['Survey Start Date'] = pd.to_datetime(TabletDataFrame['Survey Start Date'])\n",
    "TabletDataFrame['Survey End Date'] = pd.to_datetime(TabletDataFrame['Survey End Date'])"
   ]
  },
  {
   "cell_type": "markdown",
   "metadata": {
    "collapsed": true
   },
   "source": [
    "#### Again checking data type of TabletDataFrame to make sure column has been converted in date type"
   ]
  },
  {
   "cell_type": "code",
   "execution_count": 75,
   "metadata": {
    "collapsed": false
   },
   "outputs": [
    {
     "data": {
      "text/plain": [
       "AC Name                      object\n",
       "Mandal Name                  object\n",
       "Village Name                 object\n",
       "Tab No                        int64\n",
       "Survey Start Date    datetime64[ns]\n",
       "Survey End Date      datetime64[ns]\n",
       "dtype: object"
      ]
     },
     "execution_count": 75,
     "metadata": {},
     "output_type": "execute_result"
    }
   ],
   "source": [
    "TabletDataFrame.dtypes"
   ]
  },
  {
   "cell_type": "markdown",
   "metadata": {
    "collapsed": true
   },
   "source": [
    "#### Checking info of both data frames"
   ]
  },
  {
   "cell_type": "code",
   "execution_count": 76,
   "metadata": {
    "collapsed": false
   },
   "outputs": [
    {
     "name": "stdout",
     "output_type": "stream",
     "text": [
      "<class 'pandas.core.frame.DataFrame'>\n",
      "RangeIndex: 21531 entries, 0 to 21530\n",
      "Data columns (total 6 columns):\n",
      "Response No     21531 non-null int64\n",
      "Tab No          21531 non-null int64\n",
      "Survey Date     21531 non-null datetime64[ns]\n",
      "AC Name         0 non-null float64\n",
      "Mandal Name     0 non-null float64\n",
      "Village Name    0 non-null float64\n",
      "dtypes: datetime64[ns](1), float64(3), int64(2)\n",
      "memory usage: 1009.3 KB\n"
     ]
    }
   ],
   "source": [
    "SurveyDataFrame.info()"
   ]
  },
  {
   "cell_type": "code",
   "execution_count": 77,
   "metadata": {
    "collapsed": false
   },
   "outputs": [
    {
     "name": "stdout",
     "output_type": "stream",
     "text": [
      "<class 'pandas.core.frame.DataFrame'>\n",
      "RangeIndex: 2224 entries, 0 to 2223\n",
      "Data columns (total 6 columns):\n",
      "AC Name              2224 non-null object\n",
      "Mandal Name          2224 non-null object\n",
      "Village Name         2224 non-null object\n",
      "Tab No               2224 non-null int64\n",
      "Survey Start Date    2224 non-null datetime64[ns]\n",
      "Survey End Date      2224 non-null datetime64[ns]\n",
      "dtypes: datetime64[ns](2), int64(1), object(3)\n",
      "memory usage: 104.3+ KB\n"
     ]
    }
   ],
   "source": [
    "TabletDataFrame.info()"
   ]
  },
  {
   "cell_type": "markdown",
   "metadata": {},
   "source": [
    "#### Creating a new data frame (making copy of existing df) where we can impute values. (Just to keep original data frame unchanged)"
   ]
  },
  {
   "cell_type": "code",
   "execution_count": 78,
   "metadata": {
    "collapsed": false
   },
   "outputs": [],
   "source": [
    "FinalDataFrame = SurveyDataFrame.copy()"
   ]
  },
  {
   "cell_type": "code",
   "execution_count": 79,
   "metadata": {
    "collapsed": false
   },
   "outputs": [],
   "source": [
    "cnt=0\n",
    "for idx in SurveyDataFrame.index:\n",
    "    for jdx in TabletDataFrame.index:\n",
    "        if (SurveyDataFrame['Survey Date'][idx] >= TabletDataFrame['Survey Start Date'][jdx] and SurveyDataFrame['Survey Date'][idx] <= TabletDataFrame['Survey End Date'][jdx]) and (SurveyDataFrame['Tab No'][idx]==TabletDataFrame['Tab No'][jdx]):\n",
    "            FinalDataFrame.loc[idx,'Village Name'] = TabletDataFrame['Village Name'][jdx]\n",
    "#             FinalDataFrame.loc[idx,'Mandal Name'] = TabletDataFrame['Mandal Name'][jdx]\n",
    "#             FinalDataFrame.loc[idx,'AC Name'] = TabletDataFrame['AC Name'][jdx]"
   ]
  },
  {
   "cell_type": "code",
   "execution_count": 80,
   "metadata": {
    "collapsed": false
   },
   "outputs": [
    {
     "data": {
      "text/html": [
       "<div>\n",
       "<table border=\"1\" class=\"dataframe\">\n",
       "  <thead>\n",
       "    <tr style=\"text-align: right;\">\n",
       "      <th></th>\n",
       "      <th>Response No</th>\n",
       "      <th>Tab No</th>\n",
       "      <th>Survey Date</th>\n",
       "      <th>AC Name</th>\n",
       "      <th>Mandal Name</th>\n",
       "      <th>Village Name</th>\n",
       "    </tr>\n",
       "  </thead>\n",
       "  <tbody>\n",
       "    <tr>\n",
       "      <th>0</th>\n",
       "      <td>202</td>\n",
       "      <td>35</td>\n",
       "      <td>2015-05-24</td>\n",
       "      <td>NaN</td>\n",
       "      <td>NaN</td>\n",
       "      <td>Maremanda</td>\n",
       "    </tr>\n",
       "    <tr>\n",
       "      <th>1</th>\n",
       "      <td>203</td>\n",
       "      <td>400</td>\n",
       "      <td>2015-07-09</td>\n",
       "      <td>NaN</td>\n",
       "      <td>NaN</td>\n",
       "      <td>NaN</td>\n",
       "    </tr>\n",
       "    <tr>\n",
       "      <th>2</th>\n",
       "      <td>206</td>\n",
       "      <td>498</td>\n",
       "      <td>2015-06-10</td>\n",
       "      <td>NaN</td>\n",
       "      <td>NaN</td>\n",
       "      <td>Anigallapadu</td>\n",
       "    </tr>\n",
       "    <tr>\n",
       "      <th>3</th>\n",
       "      <td>206</td>\n",
       "      <td>487</td>\n",
       "      <td>2015-06-13</td>\n",
       "      <td>NaN</td>\n",
       "      <td>NaN</td>\n",
       "      <td>Penuganchiprolu</td>\n",
       "    </tr>\n",
       "    <tr>\n",
       "      <th>4</th>\n",
       "      <td>207</td>\n",
       "      <td>455</td>\n",
       "      <td>2015-05-31</td>\n",
       "      <td>NaN</td>\n",
       "      <td>NaN</td>\n",
       "      <td>KOTHAPALLI</td>\n",
       "    </tr>\n",
       "  </tbody>\n",
       "</table>\n",
       "</div>"
      ],
      "text/plain": [
       "   Response No  Tab No Survey Date  AC Name  Mandal Name     Village Name\n",
       "0          202      35  2015-05-24      NaN          NaN        Maremanda\n",
       "1          203     400  2015-07-09      NaN          NaN              NaN\n",
       "2          206     498  2015-06-10      NaN          NaN     Anigallapadu\n",
       "3          206     487  2015-06-13      NaN          NaN  Penuganchiprolu\n",
       "4          207     455  2015-05-31      NaN          NaN       KOTHAPALLI"
      ]
     },
     "execution_count": 80,
     "metadata": {},
     "output_type": "execute_result"
    }
   ],
   "source": [
    "#Removing time part from \"Survey Date\" column so that only date part is exported in excel file.\n",
    "FinalDataFrame['Survey Date'] = FinalDataFrame['Survey Date'].dt.date\n",
    "FinalDataFrame.head()"
   ]
  },
  {
   "cell_type": "markdown",
   "metadata": {},
   "source": [
    "### Exporting the output to excel file"
   ]
  },
  {
   "cell_type": "code",
   "execution_count": 81,
   "metadata": {
    "collapsed": false
   },
   "outputs": [],
   "source": [
    "FinalDataFrame.to_excel('C:/Users/abc/Desktop/Data Analytics/Projects/SocialCops - Assignment/Tab_Villages_Mapping_Imputed.xlsx',index=False)"
   ]
  },
  {
   "cell_type": "code",
   "execution_count": null,
   "metadata": {
    "collapsed": true
   },
   "outputs": [],
   "source": []
  },
  {
   "cell_type": "markdown",
   "metadata": {},
   "source": [
    "#### And its DONE....... :)"
   ]
  }
 ],
 "metadata": {
  "kernelspec": {
   "display_name": "Python [default]",
   "language": "python",
   "name": "python3"
  },
  "language_info": {
   "codemirror_mode": {
    "name": "ipython",
    "version": 3
   },
   "file_extension": ".py",
   "mimetype": "text/x-python",
   "name": "python",
   "nbconvert_exporter": "python",
   "pygments_lexer": "ipython3",
   "version": "3.5.2"
  }
 },
 "nbformat": 4,
 "nbformat_minor": 2
}
